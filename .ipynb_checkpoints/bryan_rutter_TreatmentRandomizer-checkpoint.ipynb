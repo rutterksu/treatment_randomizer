{
 "cells": [
  {
   "cell_type": "markdown",
   "metadata": {},
   "source": [
    "# Treatment randomizer  \n",
    "Author: Bryan Rutter  \n",
    "Date: 13-Feb-2020"
   ]
  },
  {
   "cell_type": "code",
   "execution_count": 1,
   "metadata": {},
   "outputs": [],
   "source": [
    "# import required modules\n",
    "import random"
   ]
  },
  {
   "cell_type": "code",
   "execution_count": 2,
   "metadata": {},
   "outputs": [],
   "source": [
    "trt = ['N0','N25','N50','N100','N200'] # kg nitrogen per hectare (kg/ha)\n",
    "reps = 4 # number of times each treatment should be replicated"
   ]
  },
  {
   "cell_type": "code",
   "execution_count": 8,
   "metadata": {},
   "outputs": [
    {
     "name": "stdout",
     "output_type": "stream",
     "text": [
      "Set-1 : ['N200', 'N100', 'N50', 'N100', 'N100']\n",
      "Set-2 : ['N50', 'N50', 'N200', 'N100', 'N0']\n",
      "Set-3 : ['N25', 'N0', 'N25', 'N25', 'N0']\n",
      "Set-4 : ['N200', 'N200', 'N50', 'N0', 'N25']\n",
      "['N200', 'N100', 'N50', 'N100', 'N100', 'N50', 'N50', 'N200', 'N100', 'N0', 'N25', 'N0', 'N25', 'N25', 'N0', 'N200', 'N200', 'N50', 'N0', 'N25']\n"
     ]
    }
   ],
   "source": [
    "# Completely randomized design\n",
    "random.seed(1) # set the seed, this is not necessary but makes it easier to check code is working properly\n",
    "\n",
    "crd = random.sample(trt*reps,len(trt)*reps) # creates a list of treatments with trt*reps number of elements.\n",
    "                                            # Each treatment appears n = 'reps' times, and treatments are randomly assigned to plots throughout the whole list.\n",
    "\n",
    "Set = {} # Empty dictionary of 'Set' of plots that treatments will be randomly assigned to using the for loop below.\n",
    "         # Since the treatments are arranged as a CRD, each treatment can appear more than one time in a set and I use \"Set\" instead of \"Replication\" or \"Block\" in this case.\n",
    "\n",
    "for i in range(1,reps+1):\n",
    "    Set[i] = crd[(i-1)*len(trt) : len(trt)*i] # Steps through the 'crd' list created above and assigns treatments to plots nested within a \"Set\".\n",
    "    print(\"Set-\",str(i),' : ',Set[i], sep=(\"\")) # print the treatments assigned to each \"Set\" of plots"
   ]
  },
  {
   "cell_type": "code",
   "execution_count": 4,
   "metadata": {},
   "outputs": [
    {
     "name": "stdout",
     "output_type": "stream",
     "text": [
      "Block-1 : ['N25', 'N0', 'N200', 'N100', 'N50']\n",
      "Block-2 : ['N100', 'N200', 'N50', 'N25', 'N0']\n",
      "Block-3 : ['N0', 'N100', 'N200', 'N25', 'N50']\n",
      "Block-4 : ['N200', 'N0', 'N50', 'N25', 'N100']\n"
     ]
    }
   ],
   "source": [
    "# Randomized complete block design\n",
    "random.seed(1) # set the seed, not necessary but makes it more reproducible and easier to check that code is working properly\n",
    "\n",
    "Block = {}  #  \n",
    "            # Treatments for each block are stored as a list tied to the ith key value in the 'Block' dictionary\n",
    "            # Each 'Block' has a different randomization and each treatment appears once per 'Block'.\n",
    "\n",
    "        for i in range(1,reps+1):\n",
    "    Block[i] = random.sample(trt, len(trt)) # Randomly assign treatments to plots nested in the ith Block. \n",
    "    print(\"Block-\",str(i),\" : \",Block[i],sep=\"\") # print the treatments assigned to plots nested in each Block."
   ]
  }
 ],
 "metadata": {
  "kernelspec": {
   "display_name": "Python 3",
   "language": "python",
   "name": "python3"
  },
  "language_info": {
   "codemirror_mode": {
    "name": "ipython",
    "version": 3
   },
   "file_extension": ".py",
   "mimetype": "text/x-python",
   "name": "python",
   "nbconvert_exporter": "python",
   "pygments_lexer": "ipython3",
   "version": "3.7.4"
  }
 },
 "nbformat": 4,
 "nbformat_minor": 4
}
