{
 "cells": [
  {
   "cell_type": "markdown",
   "metadata": {},
   "source": [
    "# Treatment randomizer  \n",
    "Author: Bryan Rutter  \n",
    "Date: 13-Feb-2020"
   ]
  },
  {
   "cell_type": "code",
   "execution_count": 55,
   "metadata": {},
   "outputs": [],
   "source": [
    "# import require modules\n",
    "import random, warnings"
   ]
  },
  {
   "cell_type": "code",
   "execution_count": 2,
   "metadata": {},
   "outputs": [],
   "source": [
    "trt = ['N0','N25','N50','N100','N200'] # kg nitrogen per hectare (kg/ha)\n",
    "reps = 4 # number of times each treatment should be replicated"
   ]
  },
  {
   "cell_type": "code",
   "execution_count": 3,
   "metadata": {},
   "outputs": [
    {
     "name": "stdout",
     "output_type": "stream",
     "text": [
      "Set-1 : ['N200', 'N100', 'N50', 'N100', 'N100']\n",
      "Set-2 : ['N50', 'N50', 'N200', 'N100', 'N0']\n",
      "Set-3 : ['N25', 'N0', 'N25', 'N25', 'N0']\n",
      "Set-4 : ['N200', 'N200', 'N50', 'N0', 'N25']\n"
     ]
    }
   ],
   "source": [
    "# Completely randomized design\n",
    "random.seed(1) # set the seed\n",
    "crd = random.sample(trt*reps,len(trt)*reps) # randomly assign treatments to plots, note that each treatment has n = reps replications\n",
    "Set = {} # Empty dictionary of set of plots that treatments are randomly assigned to, note that each set contains n = len(trt) plots\n",
    "\n",
    "for i in range(1,reps+1):\n",
    "    Set[i] = crd[(i-1)*len(trt):len(trt)*i] # assign plots to a Set, I use the name \"Set\" in place of \"Replication\" or \"Block\" since treatments are arranged as a CRD\n",
    "    print(\"Set-\",str(i),' : ',Set[i], sep=(\"\")) # print the treatments assigned to each \"Set\" of plots"
   ]
  },
  {
   "cell_type": "code",
   "execution_count": 4,
   "metadata": {},
   "outputs": [
    {
     "name": "stdout",
     "output_type": "stream",
     "text": [
      "Block-1 : ['N25', 'N0', 'N200', 'N100', 'N50']\n",
      "Block-2 : ['N100', 'N200', 'N50', 'N25', 'N0']\n",
      "Block-3 : ['N0', 'N100', 'N200', 'N25', 'N50']\n",
      "Block-4 : ['N200', 'N0', 'N50', 'N25', 'N100']\n"
     ]
    }
   ],
   "source": [
    "# Randomized complete block design\n",
    "random.seed(1) # set the seed, seems like we have to re-set the seed in each chunk\n",
    "Block = {} # Empty dictionary of sets of plots that treatments are randomly assigned to. In this case blocks might be treated as a \"random effect\" in a statistical model. \n",
    "           # To maintain balance each treatment needs to appear to the same number of times in each block (in this case one times).\n",
    "\n",
    "for i in range(1,reps+1):\n",
    "    Block[i] = random.sample(trt,len(trt))\n",
    "    print(\"Block-\",str(i),\" : \",Block[i],sep=\"\")"
   ]
  },
  {
   "cell_type": "markdown",
   "metadata": {},
   "source": [
    "# Combining loops and logic in a function\n",
    "Below I tried to make a function that combined the previous loops. Which loop is used depends on the what design of experiment (DoE) looks like. The user specifies the DoE and number of replications. Only completely randomized design (CRD) and randomized complete block design (RCBD) are supported by the function. It would be nice if the function warned the user that their DoE is not supported. I think this would need to be a \"while\" loop and not a \"for\" loop, but I haven't figured how to implement it yet."
   ]
  },
  {
   "cell_type": "code",
   "execution_count": 76,
   "metadata": {},
   "outputs": [],
   "source": [
    "# create a function that incorporates cell 3 and 4\n",
    "# Seems like this type of problem could incorporated into a function where the appropriate loop is determined by design of experiment, which is supplied by user input.\n",
    "def Trt_Rand(): # Name the function 'Trt_Rand'. Documentation says to list function arguments here but it didn't seem to work when args are supplied by user via input() calls.\n",
    "\n",
    "    # Below I some define user input parameters. These seem to work best if they are defined at the 'top' of the function.\n",
    "    design = str.upper(input(\"Enter the abreviated design of experiment (e.g. 'crd','rcbd'):\")) # specify DoE\n",
    "    n_reps = int(input(\"Enter the number of times each treatment should be replicated (e.g. 3):\")) # how many replications?\n",
    "    n_trt = int(input(\"Enter the number of treatments:\")) # how many treatments?\n",
    "    \n",
    "    # convert user input values to objects we can work with more easily...\n",
    "    trtID = list(range(1,n_trt+1)) # generates a list of Treatment ID's from the number of treatments specified by the user.\n",
    "    crd = random.sample(trtID*n_reps,len(trtID)*n_reps) # randomly assign treatments to plots, note that each treatment has n = reps replications                                                    \n",
    "    Set = {}    # Empty dictionary of set of plots that treatments are randomly assigned to, note that each set contains n = len(trt) plots\n",
    "    Block = {}  # Empty dictionary of sets of plots that treatments are randomly assigned to. \n",
    "                # In this case sets would would likely be treated as a \"random effect\" or blocking factor in a statistical model, so i refer them as blocks instead of just sets. \n",
    "           # To maintain 'balance' each treatment needs to appear to once in each block.\n",
    "    head_str = \"-\" * 20 # create a string 20 element long to use as a simple border for printing later\n",
    "    \n",
    "    # Print summary of user input values. This doesn't do much, but shows user how the function interpreted their input values.\n",
    "    print(head_str,\"\\nDoE = \", design, \n",
    "          \"\\n# of Treatments = \", n_trt,\n",
    "          \"\\n# of Replications = \", n_reps,\n",
    "          \"\\n\",head_str,sep=(\"\"))        \n",
    "    \n",
    "    # use ifelse logic with loops to randomize treatments. This is the loop for CRD design.\n",
    "    if design == 'CRD':\n",
    "        for i in range(1,n_reps+1):\n",
    "            Set[i] = crd[(i-1)*len(trtID):len(trtID)*i] # assign treatments to plots in a Set, I use the name \"Set\" in place of \"Replication\" or \"Block\" since treatments are arranged as a CRD\n",
    "            print(\"Set-\",str(i),' : ',Set[i], sep=(\"\")) # print the treatments assigned to each \"Set\" of plots\n",
    "    elif design == 'RCBD':\n",
    "        for i in range(1,n_reps+1):\n",
    "            Block[i] = random.sample(trtID,len(trtID)) # assign treatmens to random plots in a Block.\n",
    "            print(\"Block-\",str(i),\" : \",Block[i],sep=\"\") # print the treatments assigned to each Block.\n",
    "    else: \n",
    "        warnings.warn(\"\\nWelp... He's dead, Jim! \\nOnly CRD and RCBD treatment arrangements are supported at this time :(\") # Throw a warning if DoE input is unsupported...\n",
    "        # Note to self: I think it would be better if the user was warned prior to looping through the function. \n",
    "        # I guess this would require a \"while\" loop.. will play with it later"
   ]
  },
  {
   "cell_type": "code",
   "execution_count": 77,
   "metadata": {},
   "outputs": [
    {
     "name": "stdin",
     "output_type": "stream",
     "text": [
      "Enter the abreviated design of experiment (e.g. 'crd','rcbd'): fdas\n",
      "Enter the number of times each treatment should be replicated (e.g. 3): 4\n",
      "Enter the number of treatments: 5\n"
     ]
    },
    {
     "name": "stdout",
     "output_type": "stream",
     "text": [
      "--------------------\n",
      "DoE = FDAS\n",
      "# of Treatments = 5\n",
      "# of Replications = 4\n",
      "--------------------\n"
     ]
    },
    {
     "name": "stderr",
     "output_type": "stream",
     "text": [
      "C:\\Users\\rutter\\AppData\\Local\\Continuum\\anaconda3\\lib\\site-packages\\ipykernel_launcher.py:34: UserWarning: \n",
      "Welp... He's dead, Jim! \n",
      "Only CRD and RCBD treatment arrangements are supported at this time :(\n"
     ]
    }
   ],
   "source": [
    "random.seed(1)\n",
    "Trt_Rand()"
   ]
  }
 ],
 "metadata": {
  "kernelspec": {
   "display_name": "Python 3",
   "language": "python",
   "name": "python3"
  },
  "language_info": {
   "codemirror_mode": {
    "name": "ipython",
    "version": 3
   },
   "file_extension": ".py",
   "mimetype": "text/x-python",
   "name": "python",
   "nbconvert_exporter": "python",
   "pygments_lexer": "ipython3",
   "version": "3.7.4"
  }
 },
 "nbformat": 4,
 "nbformat_minor": 4
}
