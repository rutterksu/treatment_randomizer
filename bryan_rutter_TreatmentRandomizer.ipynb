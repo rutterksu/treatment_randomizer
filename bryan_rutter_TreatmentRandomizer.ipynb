{
 "cells": [
  {
   "cell_type": "markdown",
   "metadata": {},
   "source": [
    "# Treatment randomizer  \n",
    "Author: Bryan Rutter  \n",
    "Date: 13-Feb-2020"
   ]
  },
  {
   "cell_type": "code",
   "execution_count": 7,
   "metadata": {},
   "outputs": [],
   "source": [
    "# import require modules\n",
    "import random, collections"
   ]
  },
  {
   "cell_type": "code",
   "execution_count": 12,
   "metadata": {},
   "outputs": [
    {
     "name": "stdout",
     "output_type": "stream",
     "text": [
      "{1: ['N200', 'N100', 'N50', 'N100', 'N100'], 2: ['N50', 'N50', 'N200', 'N100', 'N0'], 3: ['N25', 'N0', 'N25', 'N25', 'N0'], 4: ['N200', 'N200', 'N50', 'N0', 'N25']}\n"
     ]
    }
   ],
   "source": [
    "# Completely randomized design\n",
    "random.seed(1)\n",
    "trt = ['N0','N25','N50','N100','N200'] # kg nitrogen per hectare (kg/ha)\n",
    "reps = 4\n",
    "RepID = {}\n",
    "plots = random.sample(trt*4,len(trt)*4) # randomly assign treatments to plots\n",
    "\n",
    "for i in range(1,reps+1):\n",
    "    RepID[i] = plots[(i-1)*len(trt):len(trt)*i]\n",
    "print(RepID)"
   ]
  },
  {
   "cell_type": "code",
   "execution_count": 3,
   "metadata": {},
   "outputs": [
    {
     "name": "stdout",
     "output_type": "stream",
     "text": [
      "{1: ['N25', 'N0', 'N200', 'N100', 'N50'], 2: ['N25', 'N0', 'N200', 'N100', 'N50'], 3: ['N25', 'N0', 'N200', 'N100', 'N50'], 4: ['N25', 'N0', 'N200', 'N100', 'N50']}\n"
     ]
    }
   ],
   "source": [
    "# Randomized complete block design\n",
    "random.seed(1)\n",
    "trt = ['N0','N25','N50','N100','N200'] # kg nitrogen per hectare (kg/ha)\n",
    "reps = 4\n",
    "RepID = {}\n",
    "\n",
    "for i in range(1,reps+1):\n",
    "    random.seed(1)\n",
    "    RepID[i] = random.sample(trt,len(trt))\n",
    "print(RepID)"
   ]
  }
 ],
 "metadata": {
  "kernelspec": {
   "display_name": "Python 3",
   "language": "python",
   "name": "python3"
  },
  "language_info": {
   "codemirror_mode": {
    "name": "ipython",
    "version": 3
   },
   "file_extension": ".py",
   "mimetype": "text/x-python",
   "name": "python",
   "nbconvert_exporter": "python",
   "pygments_lexer": "ipython3",
   "version": "3.7.4"
  }
 },
 "nbformat": 4,
 "nbformat_minor": 4
}
