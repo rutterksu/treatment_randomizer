{
 "cells": [
  {
   "cell_type": "markdown",
   "metadata": {},
   "source": [
    "# Treatment Randomizer function\n",
    "Author: Bryan Rutter  \n",
    "Date: 14 Feb 2020  \n",
    "\n",
    "## Description\n",
    "Treatment randomization is a crucial component of experimental design. Improper randomization can introduce systematic biases in response observations or measurements. Often time we want to attribute causality to treatment effects. Systematic biases may be hard to detect in measurement data, but render this attribution invalid. As such, the randomization process is quite important, and yet often under-appreciated. Automating the randomization process could reduce likelihood of such problems. A program was written in python to provide researchers an easy to use randomization tool. This function was inspired by a recent challenge in the AGRON 935 Scientific Program course taught by Dr. Andres Patrignani at the Agronomy Department at Kansas State University. \n",
    "\n",
    "Briefly, we were challenged to use for loops to randomize nitrogen (N) application treatments with a given number of replications on field research plots. The randomization procedure varies with design of experiment (DoE), but uses similar information for each design (i.e. # of treatments, replications, etc.). This results in creation of several loops, where the correct loop is dependent on the DoE being used. Since these loops use similar inputs, they could be joined together via logic statements and incorporated into a single function. This function was developed with field research in mind, but can, of course, easily be extended to laboratory work as well."
   ]
  },
  {
   "cell_type": "code",
   "execution_count": 1,
   "metadata": {},
   "outputs": [],
   "source": [
    "# load required packages\n",
    "import random, warnings"
   ]
  },
  {
   "cell_type": "code",
   "execution_count": 7,
   "metadata": {},
   "outputs": [],
   "source": [
    "# create a function that incorporates cell 3 and 4\n",
    "# Seems like this type of problem could incorporated into a function where the appropriate loop is determined by design of experiment, which is supplied by user input.\n",
    "def Trt_Rand(): # Name the function 'Trt_Rand'. Documentation says to list function arguments here but it didn't seem to work when args are supplied by user via input() calls.\n",
    "\n",
    "    # Below I some define user input parameters. These seem to work best if they are defined at the 'top' of the function.\n",
    "    n_trt = int(input(\"Enter the number of treatments:\")) # How many treatments? Converts user input from string to integer format\n",
    "    n_reps = int(input(\"Enter the number of times each treatment should be replicated (e.g. 3):\")) # How many replications? Converts user input from string to integer format.\n",
    "    design = str.upper(input(\"Enter the abreviated design of experiment (e.g. 'crd','rcbd'):\")) # Specify DoE. Mixed case strings can cause problems, this forces the string input by user to all upper case.\n",
    "    \n",
    "    # Below I construct some objects we can work with more easily from user inputs...\n",
    "    trtID = list(range(1, n_trt+1)) # generates a range of Treatment ID's from # of treatments specified by user (n_trt), and stores them in a list (trtID).\n",
    "    crd = random.sample(trtID*n_reps, len(trtID)*n_reps) # randomly assign treatments to plots, note that each treatment has n = n_reps replications                                                    \n",
    "    Set = {}    # Empty dictionary of set of plots that treatments will be assigned to. Output of loop will be stored here later (DoE = CRD). Dictionary keys correspond to Set # (e.g. 1, 2, 3, etc.)\n",
    "    Block = {}  # Empty dictionary of sets of plots that treatments will be assigned to. Output of loops will be stored here later (DoE = RCBD). Dictionary keys correspond to Block # (e.g. 1, 2, 3, etc.)\n",
    "                # Additional note: In the case of RCBD, \"Sets\" would would likely be treated as a \"random effect\", or blocking factor, in a statistical model. So I refer them as blocks instead of sets to avoid\n",
    "                # ambiguity. Also note that each each 'trtID' needs to appear to once in each 'Block' to maintain balance of the design. Of course this 'balance' may well be broken later... #fieldresearch\n",
    "    head_str = \"-\" * 20 # create a string 20 element long. This is just used to format printed output later on.\n",
    "    \n",
    "    # Print summary of user input values. This doesn't really do much, but shows user how the function interpreted their input values.\n",
    "    print(head_str,\n",
    "          \"\\nDoE = \", design, # print DoE supplied by user to the console\n",
    "          \"\\n# of Treatments = \", n_trt, # print # of trts supplied by user to the console\n",
    "          \"\\n# of Replications = \", n_reps, # print # of replications supplied by user to the console\n",
    "          \"\\n\",head_str, sep=(\"\")) # add a border at the bottom to separate summary from treatment structure.\n",
    "    \n",
    "    # use ifelse logic with loops to randomize treatments. This is the loop for CRD design.\n",
    "    if design == 'CRD': # DoE = CRD\n",
    "        for i in range(1,n_reps+1): # one iteration per set of plots. It occured to me later that the number of plots in a set need not be related to the number of reps since the assumption is a homogenous environment.\n",
    "            Set[i] = crd[(i-1)*len(trtID):len(trtID)*i] # assign treatments from 'crd' to plots in each Set, I use the name \"Set\" in place of \"Replication\" or \"Block\" since treatments are arranged as a CRD.\n",
    "            print(\"Set-\",str(i),' : ',Set[i], sep=(\"\")) # print the treatments assigned to each \"Set\" of plots.\n",
    "    elif design == 'RCBD':\n",
    "        for i in range(1,n_reps+1):\n",
    "            Block[i] = random.sample(trtID,len(trtID)) # assign treatments to random plots nested in a Block. Note that 'i' behaves as the Key values for the 'Block' dictionary\n",
    "            print(\"Block-\",str(i),\" : \",Block[i],sep=\"\") # print the treatments assigned to plots nested in each Block.\n",
    "    else: \n",
    "        warnings.warn(\"\\nWelp... He's dead, Jim! \\nOnly CRD and RCBD treatment arrangements are supported at this time :(\") # Throw a warning if DoE input is unsupported...\n",
    "        # Note: I think it would be better if the user was warned prior to looping through the function. I guess this would require a \"while\" loop.. will play with it later..."
   ]
  }
 ],
 "metadata": {
  "kernelspec": {
   "display_name": "Python 3",
   "language": "python",
   "name": "python3"
  },
  "language_info": {
   "codemirror_mode": {
    "name": "ipython",
    "version": 3
   },
   "file_extension": ".py",
   "mimetype": "text/x-python",
   "name": "python",
   "nbconvert_exporter": "python",
   "pygments_lexer": "ipython3",
   "version": "3.7.4"
  }
 },
 "nbformat": 4,
 "nbformat_minor": 4
}
