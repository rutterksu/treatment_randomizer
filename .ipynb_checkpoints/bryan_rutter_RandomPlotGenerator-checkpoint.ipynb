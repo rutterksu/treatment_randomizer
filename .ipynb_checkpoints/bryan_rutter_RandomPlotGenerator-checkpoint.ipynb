{
 "cells": [
  {
   "cell_type": "markdown",
   "metadata": {},
   "source": [
    "# Challenge: Random Plot Generator\n",
    "Author: Bryan Rutter  \n",
    "Date: 13-Feb-2020\n",
    "Class: AGRON 935 Spring 2020"
   ]
  },
  {
   "cell_type": "code",
   "execution_count": 1,
   "metadata": {},
   "outputs": [],
   "source": [
    "# import required modules\n",
    "import random"
   ]
  },
  {
   "cell_type": "code",
   "execution_count": 2,
   "metadata": {},
   "outputs": [],
   "source": [
    "# Universal parameters\n",
    "\n",
    "trt = ['N0','N25','N50','N100','N200'] # List of treatments, kg N/ha\n",
    "\n",
    "reps = 4 # number of times each treatment is replicated; this has to be an integer"
   ]
  },
  {
   "cell_type": "code",
   "execution_count": 3,
   "metadata": {},
   "outputs": [
    {
     "name": "stdout",
     "output_type": "stream",
     "text": [
      "Set-1 : ['N100', 'N0', 'N50', 'N200', 'N50']\n",
      "Set-2 : ['N100', 'N25', 'N0', 'N0', 'N0']\n",
      "Set-3 : ['N25', 'N100', 'N100', 'N50', 'N25']\n",
      "Set-4 : ['N200', 'N200', 'N25', 'N50', 'N200']\n"
     ]
    }
   ],
   "source": [
    "# Completely randomized design plot generator\n",
    "\n",
    "random.seed('default') # set the seed, this is not necessary but makes it easier to check that code is working properly\n",
    "\n",
    "trt_pop = trt*reps # replicates the 'trt' list 'reps' times and stores elements in a list named 'trt_pop'\n",
    "\n",
    "crd = random.sample(trt_pop, len(trt)*reps) # Assigns k = len(trt)*reps elements (all elements) of 'trt_pop' to random positions in a new list 'crd'. This ensures that each treatment appears n=reps times.\n",
    "\n",
    "Sets = {} # Creates an empty dictionary that will contain 'Set's of plots treatments will be assigned to in the loop below.\n",
    "         # For CRD treatment structures each treatment must occur n = reps times for all Sets combined, but a given treatment can appear multiple times in any given Set.\n",
    "\n",
    "# use for loop to add randomized treatments to Set\n",
    "for i in range(1, reps+1):\n",
    "    \n",
    "    Sets[i] = crd[(i-1)*len(trt) : len(trt)*i] # Steps through the list of randomized treatments stored in the list 'crd' and assigns treatments to plots nested within a \"Set\".\n",
    "                                              # Note that randomization does not occur here, it happened when the list 'crd' was created.\n",
    "\n",
    "    print(\"Set-\", str(i),' : ',Sets[i], sep=(\"\")) # print the treatments assigned to each \"Set\" of plots"
   ]
  },
  {
   "cell_type": "code",
   "execution_count": 4,
   "metadata": {},
   "outputs": [
    {
     "name": "stdout",
     "output_type": "stream",
     "text": [
      "Block-1 : ['N50', 'N200', 'N100', 'N25', 'N0']\n",
      "Block-2 : ['N25', 'N200', 'N100', 'N0', 'N50']\n",
      "Block-3 : ['N0', 'N25', 'N100', 'N200', 'N50']\n",
      "Block-4 : ['N100', 'N200', 'N50', 'N0', 'N25']\n"
     ]
    }
   ],
   "source": [
    "# Randomized complete block design\n",
    "\n",
    "random.seed('default') # set the seed, not necessary but makes it easier to check that code is working properly\n",
    "\n",
    "Blocks = {}  # An empty dictionary treatments will be randomly assigned to using the for loop below.\n",
    "            # Treatments for each block are stored in a list tied to the ith key value in the 'Block' dictionary. See type(Block) vs. type(Block[1])\n",
    "\n",
    "for i in range(1, reps+1):\n",
    "    Blocks[i] = random.sample(trt, len(trt)) # Randomly assign treatments to plots nested in the ith 'Block'. Each 'Block' has a different randomization and each treatment appears once per 'Block'.\n",
    "    print(\"Block-\", str(i), \" : \", Blocks[i], sep=\"\") # print the treatments assigned to plots nested in each Block."
   ]
  },
  {
   "cell_type": "markdown",
   "metadata": {},
   "source": [
    "# Extra stuff\n",
    "\n",
    "I tried my code with different numbers of replication and seeds to make sure it works reasonably well. I noticed pretty quickly that manually counting the number of times a treatment occurs in the Block or Set is not very efficient, especially if the number of reps is large. Below I tried to code some diagnostic tests that could help speed things up.\n",
    "\n",
    "## Strategy\n",
    "\n",
    "### Completely Randomized Design  \n",
    "1. Count the number of times each treatment occurs in __Set__\n",
    "2. Use a boolean operator to check if treatment occurance in __Set__ is equal to the number of __reps__"
   ]
  },
  {
   "cell_type": "code",
   "execution_count": 5,
   "metadata": {},
   "outputs": [
    {
     "name": "stdout",
     "output_type": "stream",
     "text": [
      "CRD summary:\n",
      " TrtID\tOccurences\tOccurences == reps\n",
      " N0: \t4\t\tTrue\n",
      " N25: \t4\t\tTrue\n",
      " N50: \t4\t\tTrue\n",
      " N100: \t4\t\tTrue\n",
      " N200: \t4\t\tTrue\n"
     ]
    }
   ],
   "source": [
    "# Check the number of times each treatment appears in 'Sets' of plots for CRD\n",
    "print(\"CRD summary:\", \"\\n \",\n",
    "      \"TrtID\",\"\\tOccurences\",\"\\tOccurences == reps\",sep=\"\")\n",
    "for i in trt:\n",
    "    print(\" \", i, \": \", \"\\t\", len(Sets), \"\\t\\t\", len(Sets) == reps, sep=\"\") # Count the # of times each treatment occurs in the 'Set' dictionary and compare with the # of reps"
   ]
  },
  {
   "cell_type": "markdown",
   "metadata": {},
   "source": [
    "### Randomized Complete Block Design\n",
    "1. Count the number of times each treatment occurs in __Block__\n",
    "2. Use a boolean operator to check if treatment occurance in __Block__ is equal to the number of __reps__"
   ]
  },
  {
   "cell_type": "code",
   "execution_count": 6,
   "metadata": {},
   "outputs": [
    {
     "name": "stdout",
     "output_type": "stream",
     "text": [
      "\n",
      "RCBD summary:\n",
      " TrtID\tOccurences\tOccurences == reps\n",
      " N0: \t4\t\tTrue\n",
      " N25: \t4\t\tTrue\n",
      " N50: \t4\t\tTrue\n",
      " N100: \t4\t\tTrue\n",
      " N200: \t4\t\tTrue\n"
     ]
    }
   ],
   "source": [
    "# Check number of times each treatment appears in 'Block' of plots for RCBD\n",
    "print(\"\\nRCBD summary:\", \"\\n \",\n",
    "      \"TrtID\",\"\\tOccurences\",\"\\tOccurences == reps\", sep=\"\")\n",
    "for i in trt:\n",
    "    print(\" \", i, \": \", \"\\t\", len(Blocks), \"\\t\\t\", len(Blocks) == reps , sep=\"\") # Count the number of times each treatment occurs in the 'Block' dictionary and compare with # of reps"
   ]
  },
  {
   "cell_type": "markdown",
   "metadata": {},
   "source": [
    "3. Check that $k^{th}$ treatment occurs once, and only once, in $i^{th}$ __Block__."
   ]
  },
  {
   "cell_type": "code",
   "execution_count": 7,
   "metadata": {},
   "outputs": [
    {
     "name": "stdout",
     "output_type": "stream",
     "text": [
      "RCBD summary (continued):\n",
      "\n",
      "Block 1:\n",
      " TrtID\tOccurence == 1\n",
      " N0\tTrue\n",
      " N25\tTrue\n",
      " N50\tTrue\n",
      " N100\tTrue\n",
      " N200\tTrue\n",
      "\n",
      "Block 2:\n",
      " TrtID\tOccurence == 1\n",
      " N0\tTrue\n",
      " N25\tTrue\n",
      " N50\tTrue\n",
      " N100\tTrue\n",
      " N200\tTrue\n",
      "\n",
      "Block 3:\n",
      " TrtID\tOccurence == 1\n",
      " N0\tTrue\n",
      " N25\tTrue\n",
      " N50\tTrue\n",
      " N100\tTrue\n",
      " N200\tTrue\n",
      "\n",
      "Block 4:\n",
      " TrtID\tOccurence == 1\n",
      " N0\tTrue\n",
      " N25\tTrue\n",
      " N50\tTrue\n",
      " N100\tTrue\n",
      " N200\tTrue\n"
     ]
    }
   ],
   "source": [
    "# Count the number of times each treatment appears in a 'Block' and check if it equals 1\n",
    "# Note... This produces very long output when 'reps' is large.. There is probably a better way to do this, but it seems to work and is easier than trying to count manually\n",
    "\n",
    "print(\"RCBD summary (continued):\")\n",
    "for i in Blocks:\n",
    "    print(\"\\nBlock \", str(i),\":\", \"\\n TrtID\", \"\\tOccurence == 1\", sep=\"\")\n",
    "    for k in trt:\n",
    "        print(\" \",str(k), \"\\t\", list.count(Blocks[i], k) == 1, sep=\"\") # Count the number of times each treatment occurs in a block. This should equal 1 for every treatment in every block"
   ]
  }
 ],
 "metadata": {
  "kernelspec": {
   "display_name": "Python 3",
   "language": "python",
   "name": "python3"
  },
  "language_info": {
   "codemirror_mode": {
    "name": "ipython",
    "version": 3
   },
   "file_extension": ".py",
   "mimetype": "text/x-python",
   "name": "python",
   "nbconvert_exporter": "python",
   "pygments_lexer": "ipython3",
   "version": "3.7.4"
  }
 },
 "nbformat": 4,
 "nbformat_minor": 4
}
