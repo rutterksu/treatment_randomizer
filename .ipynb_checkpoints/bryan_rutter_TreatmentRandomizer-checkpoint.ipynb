{
 "cells": [
  {
   "cell_type": "markdown",
   "metadata": {},
   "source": [
    "# Treatment randomizer  \n",
    "Author: Bryan Rutter  \n",
    "Date: 13-Feb-2020"
   ]
  },
  {
   "cell_type": "code",
   "execution_count": 1,
   "metadata": {},
   "outputs": [],
   "source": [
    "# import require modules\n",
    "import random"
   ]
  },
  {
   "cell_type": "code",
   "execution_count": 2,
   "metadata": {},
   "outputs": [],
   "source": [
    "trt = ['N0','N25','N50','N100','N200'] # kg nitrogen per hectare (kg/ha)\n",
    "reps = 4 # number of times each treatment should be replicated"
   ]
  },
  {
   "cell_type": "code",
   "execution_count": 3,
   "metadata": {},
   "outputs": [
    {
     "name": "stdout",
     "output_type": "stream",
     "text": [
      "Set-1 : ['N200', 'N100', 'N50', 'N100', 'N100']\n",
      "Set-2 : ['N50', 'N50', 'N200', 'N100', 'N0']\n",
      "Set-3 : ['N25', 'N0', 'N25', 'N25', 'N0']\n",
      "Set-4 : ['N200', 'N200', 'N50', 'N0', 'N25']\n"
     ]
    }
   ],
   "source": [
    "# Completely randomized design\n",
    "random.seed(1) # set the seed\n",
    "crd = random.sample(trt*reps,len(trt)*reps) # randomly assign treatments to plots, note that each treatment has n = reps replications\n",
    "Set = {} # Empty dictionary of set of plots that treatments are randomly assigned to, note that each set contains n = len(trt) plots\n",
    "\n",
    "for i in range(1,reps+1):\n",
    "    Set[i] = crd[(i-1)*len(trt):len(trt)*i] # assign plots to a Set, I use the name \"Set\" in place of \"Replication\" or \"Block\" since treatments are arranged as a CRD\n",
    "    print(\"Set-\",str(i),' : ',Set[i], sep=(\"\")) # print the treatments assigned to each \"Set\" of plots"
   ]
  },
  {
   "cell_type": "code",
   "execution_count": 4,
   "metadata": {},
   "outputs": [
    {
     "name": "stdout",
     "output_type": "stream",
     "text": [
      "Block-1 : ['N25', 'N0', 'N200', 'N100', 'N50']\n",
      "Block-2 : ['N100', 'N200', 'N50', 'N25', 'N0']\n",
      "Block-3 : ['N0', 'N100', 'N200', 'N25', 'N50']\n",
      "Block-4 : ['N200', 'N0', 'N50', 'N25', 'N100']\n"
     ]
    }
   ],
   "source": [
    "# Randomized complete block design\n",
    "random.seed(1) # set the seed, seems like we have to re-set the seed in each chunk\n",
    "Block = {} # Empty dictionary of sets of plots that treatments are randomly assigned to. In this case blocks might be treated as a \"random effect\" in a statistical model. \n",
    "           # To maintain balance each treatment needs to appear to the same number of times in each block (in this case one times).\n",
    "\n",
    "for i in range(1,reps+1):\n",
    "    Block[i] = random.sample(trt,len(trt))\n",
    "    print(\"Block-\",str(i),\" : \",Block[i],sep=\"\")"
   ]
  },
  {
   "cell_type": "markdown",
   "metadata": {},
   "source": [
    "# Creating a function to do the work\n",
    "Below I tried to make a function that combined the previous loops. Which loop is used depends on the what design of experiment looks like. The user specifies the DoE and number of replications. Only completely randomized design (CRD) and randomized complete block design (RCBD) are supported by the function. It would be nice if the function warned the user that their design is not supported if they input a different design, but I haven't figured that out yet."
   ]
  },
  {
   "cell_type": "code",
   "execution_count": 5,
   "metadata": {},
   "outputs": [],
   "source": [
    "# create a function that incorporates cell 3 and 4\n",
    "# Seems like this type of problem could incorporated into a function where the appropriate loop is determined by design of experiment, which is supplied by user input.\n",
    "\n",
    "def Trt_Rand():\n",
    "    design = str.lower(input(\"enter the abreviated design of experiment (e.g. 'crd','rcbd')\"))\n",
    "    n_reps = int(input(\"enter the number of times each treatment should be replicated (e.g. 1)\"))\n",
    "    crd = random.sample(trt*n_reps,len(trt)*n_reps) # randomly assign treatments to plots, note that each treatment has n = reps replications\n",
    "    Set = {} # Empty dictionary of set of plots that treatments are randomly assigned to, note that each set contains n = len(trt) plots\n",
    "    Block = {} # Empty dictionary of sets of plots that treatments are randomly assigned to. In this case blocks might be treated as a \"random effect\" in a statistical model. \n",
    "           # To maintain balance each treatment needs to appear to the same number of times in each block (in this case one times).\n",
    "    \n",
    "    if design == 'crd':\n",
    "        for i in range(1,n_reps+1):\n",
    "            Set[i] = crd[(i-1)*len(trt):len(trt)*i] # assign plots to a Set, I use the name \"Set\" in place of \"Replication\" or \"Block\" since treatments are arranged as a CRD\n",
    "            print(\"Set-\",str(i),' : ',Set[i], sep=(\"\")) # print the treatments assigned to each \"Set\" of plots\n",
    "    else:\n",
    "        for i in range(1,n_reps+1):\n",
    "            Block[i] = random.sample(trt,len(trt))\n",
    "            print(\"Block-\",str(i),\" : \",Block[i],sep=\"\")"
   ]
  },
  {
   "cell_type": "code",
   "execution_count": 7,
   "metadata": {},
   "outputs": [
    {
     "name": "stdin",
     "output_type": "stream",
     "text": [
      "enter the abreviated design of experiment (e.g. 'crd','rcbd') LATIN SQUARE\n",
      "enter the number of times each treatment should be replicated (e.g. 1) 4\n"
     ]
    },
    {
     "name": "stdout",
     "output_type": "stream",
     "text": [
      "Block-1 : ['N50', 'N25', 'N200', 'N0', 'N100']\n",
      "Block-2 : ['N0', 'N200', 'N100', 'N50', 'N25']\n",
      "Block-3 : ['N25', 'N100', 'N50', 'N0', 'N200']\n",
      "Block-4 : ['N100', 'N200', 'N50', 'N0', 'N25']\n"
     ]
    }
   ],
   "source": [
    "random.seed(1)\n",
    "Trt_Rand()"
   ]
  }
 ],
 "metadata": {
  "kernelspec": {
   "display_name": "Python 3",
   "language": "python",
   "name": "python3"
  },
  "language_info": {
   "codemirror_mode": {
    "name": "ipython",
    "version": 3
   },
   "file_extension": ".py",
   "mimetype": "text/x-python",
   "name": "python",
   "nbconvert_exporter": "python",
   "pygments_lexer": "ipython3",
   "version": "3.7.4"
  }
 },
 "nbformat": 4,
 "nbformat_minor": 4
}
